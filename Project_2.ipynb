{
 "cells": [
  {
   "cell_type": "code",
   "execution_count": null,
   "id": "7c07369c-b4e5-4efc-b46f-5b30fa80b452",
   "metadata": {},
   "outputs": [],
   "source": [
    "import numpy as np\n",
    "import pandas as pd\n",
    "import seaborn as sns\n",
    "from datetime import datetime\n",
    "import dateutil\n",
    "import matplotlib.pyplot as plt\n",
    "from scipy.stats import mannwhitneyu"
   ]
  },
  {
   "cell_type": "code",
   "execution_count": null,
   "id": "4fc52203-7efe-4805-9b19-1d808a037a4a",
   "metadata": {},
   "outputs": [],
   "source": [
    "df = pd.read_csv('Core/crime-housing-austin-2015.csv')\n",
    "plt.figure(figsize = (6,5))\n",
    "sns.scatterplot(data=df, x='X_Coordinate', y='Y_Coordinate', palette='muted', hue='District')\n",
    "plt.title(\"Scatter Plot of Crime Location by District\")\n",
    "plt.savefig('1a.jpg',dpi=600)\n",
    "plt.show()"
   ]
  },
  {
   "cell_type": "code",
   "execution_count": null,
   "id": "2f33d0fc-6f80-4911-a75a-86c2d9ffce36",
   "metadata": {},
   "outputs": [],
   "source": [
    "population = pd.read_csv('Core/AustinZipCodes.csv')\n",
    "df['Medianhouseholdincome'] = df['Medianhouseholdincome'].replace({'\\$': '', ',': ''}, regex=True).astype(float)\n",
    "df['Populationbelowpovertylevel'] = df['Populationbelowpovertylevel'].str.rstrip('%').astype(float)\n",
    "df['Unemployment'] = df['Unemployment'].str.rstrip('%').astype(float).astype(float)\n",
    "df['Medianhomevalue'] = df['Medianhomevalue'].replace({'\\$': '', ',': ''}, regex=True).astype(float)\n",
    "df = df.dropna(subset = ['Zip_Code_Crime'], axis=0)\n",
    "df.Zip_Code_Crime = df.Zip_Code_Crime.astype(int).astype(str)\n",
    "data_zip = df.groupby(by='Zip_Code_Crime').agg({'Key':'size','Populationbelowpovertylevel':'mean','Medianhouseholdincome':'mean','Unemployment':'mean','Medianhomevalue':'mean'}).reset_index()"
   ]
  },
  {
   "cell_type": "code",
   "execution_count": null,
   "id": "8e6bbd50-8c29-47ef-b0f6-493fa782bf5f",
   "metadata": {},
   "outputs": [],
   "source": [
    "population['Zip Code']=population['Zip Code'].astype(str)\n",
    "data_zip=data_zip.merge(population,left_on='Zip_Code_Crime',right_on='Zip Code').drop(['Zip Code', 'Location', 'City', 'National Rank'],axis=1)\n",
    "data_zip['Population'] = data_zip['Population'].str.replace(',', '').astype(int)\n",
    "data_zip['Crimerate'] = data_zip.Key/data_zip.Population"
   ]
  },
  {
   "cell_type": "code",
   "execution_count": null,
   "id": "5d8182bf-d225-4c06-9067-2ac860bcb48f",
   "metadata": {},
   "outputs": [],
   "source": [
    "columns = ['Populationbelowpovertylevel', 'Medianhouseholdincome', 'Unemployment', 'Medianhomevalue']\n",
    "titles = ['Crimerate vs Populationbelowpovertylevel', \n",
    "          'Crimerate vs Medianhouseholdincome', \n",
    "          'Crimerate vs Unemployment', \n",
    "          'Crimerate vs Medianhomevalue']\n",
    "plt.figure(figsize=(10,8))\n",
    "def annotate(ax, x, y, data):\n",
    "    data = data.dropna()\n",
    "    r, p = stats.pearsonr(data[x], data[y])\n",
    "    ax.text(0.80, 0.95, f'r = {r:.2f}\\np = {p:.5f}', \n",
    "            transform=ax.transAxes, verticalalignment='top', fontsize=12, bbox=dict(facecolor='white', alpha=0.5))\n",
    "\n",
    "fig, axes = plt.subplots(2, 2, figsize=(15, 12))\n",
    "\n",
    "for i, ax in enumerate(axes.flat):\n",
    "    col = columns[i]\n",
    "    sns.regplot(x=col, y='Crimerate', data=data_zip, ax=ax)\n",
    "    ax.set_title(titles[i])\n",
    "    annotate(ax, col, 'Crimerate', data_zip)\n",
    "\n",
    "plt.tight_layout()\n",
    "plt.savefig('2a.jpg', dpi=300)\n",
    "plt.show()"
   ]
  },
  {
   "cell_type": "markdown",
   "id": "abe7a208-f06b-4bfb-8e63-bd51f2f702b1",
   "metadata": {},
   "source": [
    "### We removed one anomalous value that was biasing our regression analysis to ensure more accurate and reliable results. This adjustment helps to prevent skewed interpretations and better reflects the true relationship between the variables under investigation."
   ]
  },
  {
   "cell_type": "code",
   "execution_count": null,
   "id": "8ce778aa-4f87-4438-ae0f-7e7f4db802e2",
   "metadata": {},
   "outputs": [],
   "source": [
    "data_zip = data_zip[data_zip.Crimerate<0.5]\n",
    "columns = ['Populationbelowpovertylevel', 'Medianhouseholdincome', 'Unemployment', 'Medianhomevalue']\n",
    "titles = ['Crimerate vs Populationbelowpovertylevel', \n",
    "          'Crimerate vs Medianhouseholdincome', \n",
    "          'Crimerate vs Unemployment', \n",
    "          'Crimerate vs Median Home Value (in $)']\n",
    "\n",
    "# Function to annotate plots with r and p-value\n",
    "plt.figure(figsize=(8,7))\n",
    "def annotate(ax, x, y, data):\n",
    "    data = data.dropna()\n",
    "    r, p = stats.pearsonr(data[x], data[y])\n",
    "    ax.text(0.80, 0.95, f'r = {r:.2f}\\np = {p:.5f}', \n",
    "            transform=ax.transAxes, verticalalignment='top', fontsize=12, bbox=dict(facecolor='white', alpha=0.5))\n",
    "\n",
    "# Create a 2x2 grid of plots\n",
    "fig, axes = plt.subplots(2, 2, figsize=(15, 12))\n",
    "\n",
    "# Loop through the axes and columns\n",
    "for i, ax in enumerate(axes.flat):\n",
    "    col = columns[i]\n",
    "    sns.regplot(x=col, y='Crimerate', data=data_zip, ax=ax)\n",
    "    ax.set_title(titles[i])\n",
    "    annotate(ax, col, 'Crimerate', data_zip)\n",
    "\n",
    "# Adjust layout\n",
    "plt.tight_layout()\n",
    "plt.savefig('1b.jpg',dpi=300)\n",
    "plt.show()"
   ]
  },
  {
   "cell_type": "code",
   "execution_count": null,
   "id": "f7a20295-8a8c-4717-b201-02632586d37e",
   "metadata": {},
   "outputs": [],
   "source": [
    "for column, title in zip(columns,titles):\n",
    "    print(\"\\n\"+title)\n",
    "    data_notnull = data_zip.dropna(subset=column)\n",
    "    display(stats.pearsonr(data_notnull.Crimerate, data_notnull[column]))"
   ]
  },
  {
   "cell_type": "markdown",
   "id": "8f8d6310-fa39-4fb9-bd48-9aac5b20f9ff",
   "metadata": {},
   "source": [
    "Key takeaway: Crime rates tend to be higher in neighborhoods with lower median household incomes, higher poverty levels, and higher unemployment rates. Conversely, neighborhoods with higher median home values and higher median household incomes generally experience lower crime rates."
   ]
  },
  {
   "cell_type": "markdown",
   "id": "c3bc9743-c9cf-4a07-9ed2-9ac7b4aa0860",
   "metadata": {},
   "source": [
    "## Crime by District"
   ]
  },
  {
   "cell_type": "code",
   "execution_count": null,
   "id": "cd01d15c-caf0-41f7-ac78-8d1ad9f17c90",
   "metadata": {},
   "outputs": [],
   "source": [
    "austin_zip = pd.read_csv(\"Core/AustinZipCodes.csv\")\n",
    "austin_crime = pd.read_csv(\"Core/crime-housing-austin-2015.csv\")\n",
    "austin_zip['Population'] = austin_zip['Population'].str.replace(',','').astype(int)\n",
    "zip_code_crime = pd.merge(austin_crime, austin_zip, left_on=\"Zip_Code_Crime\", right_on=\"Zip Code\")\n",
    "crime_by_district = zip_code_crime.groupby([\"District\",'Zip_Code_Crime']).agg({'Key':'size','Population':'mean'}).reset_index()\n",
    "crime_by_district = crime_by_district.groupby(\"District\").agg({'Key':'sum','Population':'sum'})\n",
    "\n",
    "crime_by_district['crime_rate'] = crime_by_district.Key/crime_by_district.Population\n",
    "crime_by_district = crime_by_district.reset_index()"
   ]
  },
  {
   "cell_type": "code",
   "execution_count": null,
   "id": "88928af0-c6d4-4091-87a6-64f3646d24ba",
   "metadata": {},
   "outputs": [],
   "source": [
    "plt.figure(figsize=(6,5))\n",
    "sns.barplot(crime_by_district[(crime_by_district.District != 'AP') & (crime_by_district.District != 'UK')] , x='crime_rate', y = 'District')\n",
    "plt.xlabel('Crime per Capita')\n",
    "plt.savefig('3.jpg',dpi=300)"
   ]
  },
  {
   "cell_type": "code",
   "execution_count": null,
   "id": "3cb34592-543e-4232-8f6d-da5369925297",
   "metadata": {},
   "outputs": [],
   "source": [
    "plt.figure(figsize=(7,5))\n",
    "sns.barplot(crime_by_district[(crime_by_district.District != 'AP') & (crime_by_district.District != 'UK')], x='Population', y ='District')"
   ]
  },
  {
   "cell_type": "code",
   "execution_count": null,
   "id": "0af5222d-d387-4de0-b496-0b0e66bc6600",
   "metadata": {},
   "outputs": [],
   "source": [
    "def days_between(d1, d2):\n",
    "    if d1 == \"NA\" or d2 == \"NA\":\n",
    "        return -1\n",
    "    d1 = datetime.strptime(d1, \"%d-%m-%y\")\n",
    "    d2 = datetime.strptime(d2, \"%d-%m-%y\")\n",
    "    return abs((d2 - d1).days)\n",
    "\n",
    "months = {\"Jan\": 1, \"Feb\": 2, \"Mar\": 3, \"Apr\": 4, \"May\": 5, \"Jun\": 6, \"Jul\": 7, \"Aug\": 8, \"Sep\": 9, \"Oct\": 10, \"Nov\": 11, \"Dec\": 12}\n",
    "\n",
    "def convertDateMonth(raw_date):\n",
    "    key = raw_date.split('-')[1]\n",
    "    date = raw_date.replace(key, str(months[key]))\n",
    "    return date\n",
    "\n",
    "def report_period(reportDate, clearDate):\n",
    "    if type(clearDate) == float:\n",
    "        return -1\n",
    "    rp_date = convertDateMonth(reportDate)\n",
    "    cl_date = convertDateMonth(clearDate)\n",
    "    return days_between(rp_date, cl_date)\n",
    "\n",
    "austin_crime['Clearance_period'] = austin_crime.apply(lambda x: report_period(x.Report_Date, x.Clearance_Date), axis=1)\n",
    "austin_crime = austin_crime[austin_crime.Clearance_period>= 0]"
   ]
  },
  {
   "cell_type": "code",
   "execution_count": null,
   "id": "5d8f7de7-c9f4-49c1-8c3d-6ec5aa12f1e9",
   "metadata": {},
   "outputs": [],
   "source": [
    "austin_crime.Clearance_period.describe()"
   ]
  },
  {
   "cell_type": "code",
   "execution_count": null,
   "id": "9d4f76da-3c91-4f16-b4d8-b1b248df1f7d",
   "metadata": {},
   "outputs": [],
   "source": [
    "status_C = austin_crime[austin_crime.Clearance_Status == \"C\"]"
   ]
  },
  {
   "cell_type": "markdown",
   "id": "01d34b9c-006b-4092-9524-584064f7cf0f",
   "metadata": {},
   "source": [
    "### Compare Report Period by District"
   ]
  },
  {
   "cell_type": "markdown",
   "id": "f12df953-7ed1-4a11-952a-f66d6c4b0f67",
   "metadata": {},
   "source": [
    "### Is there a difference between George's and Adam's Report Period?"
   ]
  },
  {
   "cell_type": "code",
   "execution_count": null,
   "id": "4fd0bc53-1689-4c2a-8511-2089e04d2177",
   "metadata": {},
   "outputs": [],
   "source": [
    "district_A = status_C[status_C.District == \"A\"]\n",
    "district_G = status_C[status_C.District == \"G\"]"
   ]
  },
  {
   "cell_type": "code",
   "execution_count": null,
   "id": "e665011a-7e6c-4264-a775-683b152b2f7d",
   "metadata": {},
   "outputs": [],
   "source": [
    "plt.figure(figsize = (6,5))\n",
    "sns.kdeplot(district_A.Clearance_period, label=\"Adam\",color='blue')\n",
    "sns.kdeplot(district_G.Clearance_period, label=\"George\",color='orange')\n",
    "plt.xlabel('Time in days for a Crime to be cleared')\n",
    "plt.legend()\n",
    "plt.savefig('5.jpg',dpi=300)"
   ]
  },
  {
   "cell_type": "code",
   "execution_count": null,
   "id": "2a8d59ef-caae-48c4-9d28-a151619e3f66",
   "metadata": {},
   "outputs": [],
   "source": [
    "district_A.Clearance_period.describe()"
   ]
  },
  {
   "cell_type": "code",
   "execution_count": null,
   "id": "97f67bff-80ca-41ca-815b-ff7b319e2719",
   "metadata": {},
   "outputs": [],
   "source": [
    "district_G.Clearance_period.describe()"
   ]
  },
  {
   "cell_type": "code",
   "execution_count": null,
   "id": "88e1a0b1-5cb7-4d9a-92e9-070141a8ad77",
   "metadata": {},
   "outputs": [],
   "source": [
    "display(mannwhitneyu(district_A.Clearance_period, district_G.Clearance_period, alternative='greater'))"
   ]
  }
 ],
 "metadata": {
  "kernelspec": {
   "display_name": "Python 3 (ipykernel)",
   "language": "python",
   "name": "python3"
  },
  "language_info": {
   "codemirror_mode": {
    "name": "ipython",
    "version": 3
   },
   "file_extension": ".py",
   "mimetype": "text/x-python",
   "name": "python",
   "nbconvert_exporter": "python",
   "pygments_lexer": "ipython3",
   "version": "3.11.5"
  }
 },
 "nbformat": 4,
 "nbformat_minor": 5
}
